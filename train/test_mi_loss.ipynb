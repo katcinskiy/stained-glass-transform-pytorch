{
 "cells": [
  {
   "cell_type": "code",
   "execution_count": null,
   "id": "ff783020",
   "metadata": {},
   "outputs": [],
   "source": [
    "import torch\n",
    "import torch.nn as nn\n",
    "\n",
    "class ConditionalProb(nn.Module):\n",
    "    def __init__(self, d):\n",
    "        super().__init__()\n",
    "\n",
    "        self.mean_head = nn.Linear(d, d)\n",
    "        self.logstd_head = nn.Linear(d, d)\n",
    "\n",
    "    def forward(self, cond_x):\n",
    "        return self.mean(cond_x), self.logstd_head(cond_x)\n",
    "    \n",
    "    def sample(self.)\n"
   ]
  }
 ],
 "metadata": {
  "language_info": {
   "name": "python"
  }
 },
 "nbformat": 4,
 "nbformat_minor": 5
}
